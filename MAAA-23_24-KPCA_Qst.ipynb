{
 "cells": [
  {
   "cell_type": "markdown",
   "metadata": {},
   "source": [
    "<div class=\"title\">Practical Assignment: Dimensionality Reduction</div>\n",
    "<div class=\"subtitle\">Métodos Avanzados en Aprendizaje Automático</div>\n",
    "<div class=\"author\"> XXX </div>\n",
    "\n",
    "---"
   ]
  },
  {
   "cell_type": "markdown",
   "metadata": {},
   "source": [
    "**Initial Configuration**"
   ]
  },
  {
   "cell_type": "markdown",
   "metadata": {},
   "source": [
    "This cell defines the configuration of Jupyter Notebooks."
   ]
  },
  {
   "cell_type": "code",
   "execution_count": 1,
   "metadata": {
    "tags": []
   },
   "outputs": [
    {
     "data": {
      "text/html": [
       "<head><link rel=\"stylesheet\" href=\"style.css\"></head>\n"
      ],
      "text/plain": [
       "<IPython.core.display.HTML object>"
      ]
     },
     "metadata": {},
     "output_type": "display_data"
    }
   ],
   "source": [
    "%%html\n",
    "<head><link rel=\"stylesheet\" href=\"style.css\"></head>"
   ]
  },
  {
   "cell_type": "code",
   "execution_count": null,
   "metadata": {
    "tags": []
   },
   "outputs": [],
   "source": [
    "%matplotlib inline\n",
    "%load_ext autoreload\n",
    "%autoreload 2"
   ]
  },
  {
   "cell_type": "markdown",
   "metadata": {},
   "source": [
    "This cell imports the packages to be used (all of them quite standard)."
   ]
  },
  {
   "cell_type": "code",
   "execution_count": 1,
   "metadata": {
    "tags": []
   },
   "outputs": [],
   "source": [
    "import numpy as np\n",
    "\n",
    "import matplotlib\n",
    "import matplotlib.pyplot as plt\n",
    "\n",
    "matplotlib.rc('figure', figsize=(15, 5))\n",
    "seed = 123"
   ]
  },
  {
   "cell_type": "markdown",
   "metadata": {},
   "source": [
    "# Introduction"
   ]
  },
  {
   "cell_type": "markdown",
   "metadata": {},
   "source": [
    "This practical assignment consists in implementing a simplified version of the KernelPCA class of `sklearn`.\n",
    "\n",
    "This class will contain three public methods: `fit()`, `transform()` and `fit_transform()`."
   ]
  },
  {
   "cell_type": "markdown",
   "metadata": {},
   "source": [
    "# Implementation of KPCA"
   ]
  },
  {
   "cell_type": "markdown",
   "metadata": {},
   "source": [
    "## Requirements\n",
    "\n",
    "The objective of this assignment is to complete the class `KPCA` sketched below, which should contain at least the following methods.\n",
    "\n",
    "---\n",
    "```python\n",
    "__init__(self, n_components, kernel, gamma)\n",
    "```\n",
    "* This is the construction method for the class, with the following parameters:\n",
    "    * `n_components`: Reduced dimension.\n",
    "    * `kernel`: `'linear'` or `'rbf'`.\n",
    "    * `gamma`: Kernel parameter $\\gamma$ of the RBF kernel.\n",
    "* This method should only store the parameters in fields of the class, to be used when needed.\n",
    "\n",
    "---\n",
    "```python\n",
    "fit(self, X)\n",
    "```\n",
    "* This is the training method, with the following parameters:\n",
    "    * `X`: Training data matrix $\\mathbf{X}$. We assume it is centered.\n",
    "* This method should compute the projecting direction, storing the useful information in fields of the class.\n",
    "\n",
    "---\n",
    "```python\n",
    "transform(self, X)\n",
    "```\n",
    "* This is the method that computes the projection, with the following parameters:\n",
    "    * `X`: New data matrix $\\mathbf{X}$.\n",
    "* This method will used the stored information in the class for projecting new points.\n",
    "---\n",
    "```python\n",
    "fit_transform(self, X)\n",
    "```\n",
    "* This method firstly fit the model, and latter apply it over the training data, with the following parameters:\n",
    "    * `X`: New data matrix $\\mathbf{X}$.\n",
    "* **NOTE**: This method can be implemented just calling the methods `fit` and `transform`; but also it can be computed more efficiently by theoretically computing the projection in this case. If this second approach is chosen, a brief explanation of why the implemented code is working will be required."
   ]
  },
  {
   "cell_type": "markdown",
   "metadata": {},
   "source": [
    "### Some recommendations:\n",
    "\n",
    "* We will not pay attention to the dataset size, the examples used will be simple ones. We recommend the use of `eig` from `scipy` for computing the first `n_components` eigenvalues and eigenvectors. It will be necessary to ensure that the eigenvectors are ordered in terms of the largest eigenvalues.\n",
    "* The projection direction should be deterministic, so the eigenvectors found should be flipped in terms of their sign to obtain always the same result.\n",
    "* Projected data should be centered inside the method (so it has zero mean, but the std remains the same), being careful to also centered the projected new data points. For this purpose you can use the method [KernelCenterer()](https://scikit-learn.org/stable/modules/generated/sklearn.preprocessing.KernelCenterer.html) from sklearn.\n",
    "* Remember that the projection direction should have norm 1. This means that during the training the computed eigenvectors should be properly normalized and stored once normalized."
   ]
  },
  {
   "cell_type": "markdown",
   "metadata": {},
   "source": [
    "## Implementation"
   ]
  },
  {
   "cell_type": "markdown",
   "metadata": {},
   "source": [
    "<div class=\"qst\">\n",
    "\n",
    "* Complete the `KPCA` class below, satisfying the described requirements.\n",
    "\n",
    "</div>"
   ]
  },
  {
   "cell_type": "code",
   "execution_count": 42,
   "metadata": {
    "tags": []
   },
   "outputs": [],
   "source": [
    "import numpy as np\n",
    "from numpy.linalg import eig\n",
    "from sklearn.metrics.pairwise import rbf_kernel\n",
    "from sklearn.preprocessing import KernelCenterer\n",
    "\n",
    "\n",
    "class KPCA():\n",
    "    \"\"\"\n",
    "        Kernel PCA.\n",
    "    \"\"\"\n",
    "    def __init__(self, n_components: int, kernel: str, gamma: float = None):\n",
    "        \"\"\"\n",
    "            Initialization of the KPCA class.\n",
    "\n",
    "            Parameters:\n",
    "                - n_components: int, Number of principal components.\n",
    "                - kernel: str, Kernel type ('linear' or 'rbf').\n",
    "                - gamma: float or None, Kernel coefficient for 'rbf' kernel.\n",
    "        \"\"\" \n",
    "        self.n_components = n_components\n",
    "        self.kernel = str.lower(kernel)\n",
    "        self.gamma = gamma\n",
    "        self.X = None\n",
    "        self.alphas_ = None\n",
    "        self.lambdas_ = None\n",
    "\n",
    "    def _linear_kernel(self, X: np.ndarray, Y: np.ndarray = None):\n",
    "        return np.dot(X, Y if Y is not None else X.T)\n",
    "    \n",
    "    def _rbf_kernel(self, X: np.ndarray, Y: np.ndarray = None):\n",
    "        if not Y:\n",
    "            Y = X\n",
    "        if not self.gamma:\n",
    "            self.gamma = 1.0 / X.shape[1]\n",
    "\n",
    "        sq_dists = np.sum(X**2, axis=1).reshape(-1, 1) + np.sum(Y**2, axis=1) - 2 * np.dot(X, Y.T)\n",
    "        return np.exp(-self.gamma * sq_dists)\n",
    "\n",
    "    def fit(self, X: np.ndarray):\n",
    "        \"\"\"\n",
    "            Fit the KPCA model on the training data X.\n",
    "            \n",
    "            Parameters:\n",
    "            - X: numpy array of shape (n_samples, n_features), Training data.\n",
    "        \"\"\"\n",
    "        self.X = X\n",
    "\n",
    "        if self.kernel == 'linear':\n",
    "            K = self._linear_kernel(X)\n",
    "        elif self.kernel == 'rbf':\n",
    "            K = self._rbf_kernel(X)\n",
    "        else:\n",
    "            raise ValueError(f\"The value of Kernel must be 'linear' or 'rbf', '{self.kernel}' is given\")\n",
    "        \n",
    "        K = KernelCenterer().fit(K).transform(K)\n",
    "\n",
    "        eigenvalues, eigenvectors = eig(K)\n",
    "\n",
    "        idx = np.argsort(eigenvalues)[::-1]\n",
    "        eigenvalues = eigenvalues[idx]\n",
    "        eigenvectors = eigenvectors[:, idx]\n",
    "\n",
    "        self.alphas_ = eigenvectors[:, :self.n_components]\n",
    "        self.lambdas_ = eigenvalues[:self.n_components]\n",
    "\n",
    "\n",
    "    def transform(self, X: np.ndarray):\n",
    "        \"\"\"\n",
    "            Project new data X into the principal component space.\n",
    "            \n",
    "            Parameters:\n",
    "            - X: numpy array of shape (n_samples, n_features), New data to project.\n",
    "            \n",
    "            Returns:\n",
    "            - Projected data of shape (n_samples, n_components).\n",
    "        \"\"\"\n",
    "        if self.kernel == 'linear':\n",
    "            K = self._linear_kernel(X)\n",
    "        elif self.kernel == 'rbf':\n",
    "            K = self._rbf_kernel(X)\n",
    "        else:\n",
    "            raise ValueError(f\"The value of Kernel must be 'linear' or 'rbf', '{self.kernel}' is given\")\n",
    "        \n",
    "        K = KernelCenterer().fit(K).transform(K)\n",
    "        \n",
    "        return np.dot(K, self.alphas_ / np.sqrt(self.lambdas_))\n",
    "\n",
    "    def fit_transform(self, X: np.ndarray):\n",
    "        \"\"\"\n",
    "            Fit the model to X and then project X into the principal component space.\n",
    "            \n",
    "            Parameters:\n",
    "            - X: numpy array of shape (n_samples, n_features), Training data to fit and project.\n",
    "            \n",
    "            Returns:\n",
    "            - Projected data of shape (n_samples, n_components).\n",
    "        \"\"\"\n",
    "        self.fit(X)\n",
    "        return self.transform(X)"
   ]
  },
  {
   "cell_type": "markdown",
   "metadata": {},
   "source": [
    "# Experiments with KPCA"
   ]
  },
  {
   "cell_type": "markdown",
   "metadata": {},
   "source": [
    "## Comparative with *scikit-learn*"
   ]
  },
  {
   "cell_type": "markdown",
   "metadata": {},
   "source": [
    "The following cell generates the *blobs* dataset and depicts it."
   ]
  },
  {
   "cell_type": "code",
   "execution_count": 24,
   "metadata": {
    "tags": []
   },
   "outputs": [
    {
     "data": {
      "image/png": "[encoded data removed]",
      "text/plain": [
       "<Figure size 1500x500 with 1 Axes>"
      ]
     },
     "metadata": {},
     "output_type": "display_data"
    },
    {
     "name": "stdout",
     "output_type": "stream",
     "text": [
      "(90, 2)\n"
     ]
    }
   ],
   "source": [
    "from sklearn.datasets import make_blobs\n",
    "X, y = make_blobs(random_state=seed)\n",
    "X_train = X[:90,:]; y_train=y[:90]\n",
    "X_new = X[90:,:]; y_new=y[90:]\n",
    "\n",
    "plt.scatter(X_train[:,0], X_train[:,1],c=y_train, label='train')\n",
    "plt.scatter(X_new[:,0], X_new[:,1], c=y_new, marker='s', label='new')\n",
    "plt.legend()\n",
    "plt.show()"
   ]
  },
  {
   "cell_type": "markdown",
   "metadata": {},
   "source": [
    "<div class=\"qst\">\n",
    "\n",
    "* Train and transform a classical PCA model over the training data (`X_train`), using both the implemented `KPCA` class using a linear kernel and the `PCA` class of `sklearn`.\n",
    "* Transform using the previous two models the new data (`X_new`).\n",
    "* Compare that both classes provide the same outputs (in terms of the eigenvectors and the data projections), describing the obtained results.\n",
    "</div>"
   ]
  },
  {
   "cell_type": "code",
   "execution_count": 43,
   "metadata": {
    "tags": []
   },
   "outputs": [
    {
     "name": "stdout",
     "output_type": "stream",
     "text": [
      "[[ 0.92260084 -0.38575601]]\n",
      "[[-0.08123619+0.j]\n",
      " [-0.06891148+0.j]\n",
      " [ 0.15062412+0.j]\n",
      " [-0.04266743+0.j]\n",
      " [-0.07147252+0.j]\n",
      " [ 0.15780133+0.j]\n",
      " [-0.09326465+0.j]\n",
      " [-0.04839517+0.j]\n",
      " [-0.05374339+0.j]\n",
      " [-0.07190818+0.j]\n",
      " [ 0.15112781+0.j]\n",
      " [-0.05942339+0.j]\n",
      " [ 0.19685254+0.j]\n",
      " [-0.11713105+0.j]\n",
      " [ 0.13009346+0.j]\n",
      " [ 0.15464622+0.j]\n",
      " [-0.10605742+0.j]\n",
      " [-0.0516112 +0.j]\n",
      " [-0.06528065+0.j]\n",
      " [ 0.12183638+0.j]\n",
      " [-0.06478687+0.j]\n",
      " [-0.06634531+0.j]\n",
      " [-0.04676491+0.j]\n",
      " [ 0.114942  +0.j]\n",
      " [ 0.1482836 +0.j]\n",
      " [ 0.15419275+0.j]\n",
      " [ 0.1353215 +0.j]\n",
      " [-0.06036211+0.j]\n",
      " [ 0.16222287+0.j]\n",
      " [-0.05789826+0.j]\n",
      " [-0.09784917+0.j]\n",
      " [-0.10830916+0.j]\n",
      " [-0.07537512+0.j]\n",
      " [-0.08553751+0.j]\n",
      " [-0.09724484+0.j]\n",
      " [ 0.15735876+0.j]\n",
      " [ 0.14816689+0.j]\n",
      " [-0.07620327+0.j]\n",
      " [-0.05962808+0.j]\n",
      " [-0.10194315+0.j]\n",
      " [ 0.12620459+0.j]\n",
      " [ 0.10840434+0.j]\n",
      " [ 0.1288974 +0.j]\n",
      " [-0.05503203+0.j]\n",
      " [-0.05889787+0.j]\n",
      " [-0.06739939+0.j]\n",
      " [-0.09465508+0.j]\n",
      " [ 0.11902141+0.j]\n",
      " [-0.07872591+0.j]\n",
      " [ 0.14472307+0.j]\n",
      " [ 0.15343469+0.j]\n",
      " [ 0.13701772+0.j]\n",
      " [ 0.165676  +0.j]\n",
      " [-0.09360242+0.j]\n",
      " [ 0.11519768+0.j]\n",
      " [ 0.15177315+0.j]\n",
      " [-0.04938926+0.j]\n",
      " [ 0.13575271+0.j]\n",
      " [-0.06748124+0.j]\n",
      " [-0.05794203+0.j]\n",
      " [-0.09377153+0.j]\n",
      " [-0.08001293+0.j]\n",
      " [-0.03354279+0.j]\n",
      " [ 0.09317853+0.j]\n",
      " [-0.06860916+0.j]\n",
      " [-0.10203101+0.j]\n",
      " [-0.11988186+0.j]\n",
      " [ 0.16463503+0.j]\n",
      " [-0.08361911+0.j]\n",
      " [-0.08215948+0.j]\n",
      " [-0.09150904+0.j]\n",
      " [-0.10845164+0.j]\n",
      " [-0.05768757+0.j]\n",
      " [ 0.17261986+0.j]\n",
      " [-0.05562086+0.j]\n",
      " [ 0.13368959+0.j]\n",
      " [-0.07918395+0.j]\n",
      " [-0.06006921+0.j]\n",
      " [-0.05220618+0.j]\n",
      " [ 0.1141385 +0.j]\n",
      " [-0.07461308+0.j]\n",
      " [-0.07780899+0.j]\n",
      " [-0.0606298 +0.j]\n",
      " [-0.08385862+0.j]\n",
      " [-0.11096795+0.j]\n",
      " [-0.07974221+0.j]\n",
      " [-0.0737928 +0.j]\n",
      " [ 0.17122575+0.j]\n",
      " [-0.04406469+0.j]\n",
      " [-0.0927501 +0.j]]\n"
     ]
    }
   ],
   "source": [
    "from sklearn.decomposition import PCA\n",
    "\n",
    "kernel = \"linear\"\n",
    "n_components=1\n",
    "\n",
    "model_my = KPCA(n_components=n_components, kernel=kernel)\n",
    "model_sk = PCA(n_components=n_components)\n",
    "\n",
    "# Training of the models (complete).\n",
    "model_sk.fit_transform(X_train)\n",
    "model_my.fit_transform(X_train)\n",
    "# Comparative of the eigenvectors (complete).\n",
    "# ...\n",
    "print(model_sk.components_)\n",
    "print(model_my.alphas_)\n",
    "\n",
    "# Comparative of the projections (complete).\n",
    "# ..."
   ]
  },
  {
   "cell_type": "markdown",
   "metadata": {},
   "source": [
    "<div class=\"qst\">\n",
    "\n",
    "* Train and transform a Kernel PCA model using a RBF kernel over the training data (`X_train`), calling both the implemented `KPCA` class and the `KernelPCA` class of `sklearn`.\n",
    "* Transform using the previous two models the new data (`X_new`).\n",
    "* Compare that both classes provide the same outputs (in terms of the eigenvectors and the data projections), describing the obtained results.\n",
    "</div>"
   ]
  },
  {
   "cell_type": "code",
   "execution_count": null,
   "metadata": {
    "tags": []
   },
   "outputs": [],
   "source": [
    "from sklearn.decomposition import KernelPCA\n",
    "\n",
    "kernel = 'rbf'\n",
    "n_components=1\n",
    "\n",
    "# Model definition (complete).\n",
    "model_my = KPCA(n_components=n_components, kernel=kernel)\n",
    "model_sk = KernelPCA()\n",
    "\n",
    "# Training of the models (complete).\n",
    "# ...\n",
    "\n",
    "# Comparative of the eigenvectors (complete).\n",
    "# ...\n",
    "\n",
    "# Comparative of the projections (complete).\n",
    "# ..."
   ]
  },
  {
   "cell_type": "markdown",
   "metadata": {},
   "source": [
    "## Comparing linear kernel against Gaussian kernel"
   ]
  },
  {
   "cell_type": "code",
   "execution_count": null,
   "metadata": {
    "tags": []
   },
   "outputs": [],
   "source": [
    "from sklearn.datasets import make_moons\n",
    "\n",
    "X, y = make_moons(noise=1e-1, random_state=seed)\n",
    "\n",
    "plt.scatter(X[:,0], X[:,1],c=y)"
   ]
  },
  {
   "cell_type": "markdown",
   "metadata": {},
   "source": [
    "<div class=\"qst\">\n",
    "\n",
    "* Using the implemented class `KPCA` compare the result of transforming the above dataset using a linear kernel and an RBF one (looking for an appropriated hyperparameter `gamma` value).\n",
    "* Is there some model able to properly project the classes separately?\n",
    "</div>"
   ]
  },
  {
   "cell_type": "code",
   "execution_count": null,
   "metadata": {
    "tags": []
   },
   "outputs": [],
   "source": [
    "n_components=1\n",
    "\n",
    "model_linear = KPCA(n_components=n_components, kernel='linear')\n",
    "model_rbf = KPCA(n_components=n_components, kernel='rbf')"
   ]
  }
 ],
 "metadata": {
  "@webio": {
   "lastCommId": null,
   "lastKernelId": null
  },
  "kernelspec": {
   "display_name": "Python 3 (ipykernel)",
   "language": "python",
   "name": "python3"
  },
  "language_info": {
   "codemirror_mode": {
    "name": "ipython",
    "version": 3
   },
   "file_extension": ".py",
   "mimetype": "text/x-python",
   "name": "python",
   "nbconvert_exporter": "python",
   "pygments_lexer": "ipython3",
   "version": "3.10.7"
  },
  "toc": {
   "base_numbering": 1,
   "nav_menu": {},
   "number_sections": false,
   "sideBar": true,
   "skip_h1_title": false,
   "title_cell": "Table of Contents",
   "title_sidebar": "Contents",
   "toc_cell": false,
   "toc_position": {
    "height": "calc(100% - 180px)",
    "left": "10px",
    "top": "150px",
    "width": "352px"
   },
   "toc_section_display": true,
   "toc_window_display": false
  }
 },
 "nbformat": 4,
 "nbformat_minor": 4
}
