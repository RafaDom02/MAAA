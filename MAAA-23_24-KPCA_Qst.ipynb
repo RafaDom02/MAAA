{
 "cells": [
  {
   "cell_type": "markdown",
   "metadata": {},
   "source": [
    "<div class=\"title\">Practical Assignment: Dimensionality Reduction</div>\n",
    "<div class=\"subtitle\">Métodos Avanzados en Aprendizaje Automático</div>\n",
    "<div class=\"author\"> XXX </div>\n",
    "\n",
    "---"
   ]
  },
  {
   "cell_type": "markdown",
   "metadata": {},
   "source": [
    "**Initial Configuration**"
   ]
  },
  {
   "cell_type": "markdown",
   "metadata": {},
   "source": [
    "This cell defines the configuration of Jupyter Notebooks."
   ]
  },
  {
   "cell_type": "code",
   "execution_count": 1,
   "metadata": {
    "tags": []
   },
   "outputs": [
    {
     "data": {
      "text/html": [
       "<head><link rel=\"stylesheet\" href=\"style.css\"></head>\n"
      ],
      "text/plain": [
       "<IPython.core.display.HTML object>"
      ]
     },
     "metadata": {},
     "output_type": "display_data"
    }
   ],
   "source": [
    "%%html\n",
    "<head><link rel=\"stylesheet\" href=\"style.css\"></head>"
   ]
  },
  {
   "cell_type": "code",
   "execution_count": null,
   "metadata": {
    "tags": []
   },
   "outputs": [],
   "source": [
    "%matplotlib inline\n",
    "%load_ext autoreload\n",
    "%autoreload 2"
   ]
  },
  {
   "cell_type": "markdown",
   "metadata": {},
   "source": [
    "This cell imports the packages to be used (all of them quite standard)."
   ]
  },
  {
   "cell_type": "code",
   "execution_count": 2,
   "metadata": {
    "tags": []
   },
   "outputs": [],
   "source": [
    "import numpy as np\n",
    "\n",
    "import matplotlib\n",
    "import matplotlib.pyplot as plt\n",
    "\n",
    "matplotlib.rc('figure', figsize=(15, 5))\n",
    "seed = 123"
   ]
  },
  {
   "cell_type": "markdown",
   "metadata": {},
   "source": [
    "# Introduction"
   ]
  },
  {
   "cell_type": "markdown",
   "metadata": {},
   "source": [
    "This practical assignment consists in implementing a simplified version of the KernelPCA class of `sklearn`.\n",
    "\n",
    "This class will contain three public methods: `fit()`, `transform()` and `fit_transform()`."
   ]
  },
  {
   "cell_type": "markdown",
   "metadata": {},
   "source": [
    "# Implementation of KPCA"
   ]
  },
  {
   "cell_type": "markdown",
   "metadata": {},
   "source": [
    "## Requirements\n",
    "\n",
    "The objective of this assignment is to complete the class `KPCA` sketched below, which should contain at least the following methods.\n",
    "\n",
    "---\n",
    "```python\n",
    "__init__(self, n_components, kernel, gamma)\n",
    "```\n",
    "* This is the construction method for the class, with the following parameters:\n",
    "    * `n_components`: Reduced dimension.\n",
    "    * `kernel`: `'linear'` or `'rbf'`.\n",
    "    * `gamma`: Kernel parameter $\\gamma$ of the RBF kernel.\n",
    "* This method should only store the parameters in fields of the class, to be used when needed.\n",
    "\n",
    "---\n",
    "```python\n",
    "fit(self, X)\n",
    "```\n",
    "* This is the training method, with the following parameters:\n",
    "    * `X`: Training data matrix $\\mathbf{X}$. We assume it is centered.\n",
    "* This method should compute the projecting direction, storing the useful information in fields of the class.\n",
    "\n",
    "---\n",
    "```python\n",
    "transform(self, X)\n",
    "```\n",
    "* This is the method that computes the projection, with the following parameters:\n",
    "    * `X`: New data matrix $\\mathbf{X}$.\n",
    "* This method will used the stored information in the class for projecting new points.\n",
    "---\n",
    "```python\n",
    "fit_transform(self, X)\n",
    "```\n",
    "* This method firstly fit the model, and latter apply it over the training data, with the following parameters:\n",
    "    * `X`: New data matrix $\\mathbf{X}$.\n",
    "* **NOTE**: This method can be implemented just calling the methods `fit` and `transform`; but also it can be computed more efficiently by theoretically computing the projection in this case. If this second approach is chosen, a brief explanation of why the implemented code is working will be required."
   ]
  },
  {
   "cell_type": "markdown",
   "metadata": {},
   "source": [
    "### Some recommendations:\n",
    "\n",
    "* We will not pay attention to the dataset size, the examples used will be simple ones. We recommend the use of `eig` from `scipy` for computing the first `n_components` eigenvalues and eigenvectors. It will be necessary to ensure that the eigenvectors are ordered in terms of the largest eigenvalues.\n",
    "* The projection direction should be deterministic, so the eigenvectors found should be flipped in terms of their sign to obtain always the same result.\n",
    "* Projected data should be centered inside the method (so it has zero mean, but the std remains the same), being careful to also centered the projected new data points. For this purpose you can use the method [KernelCenterer()](https://scikit-learn.org/stable/modules/generated/sklearn.preprocessing.KernelCenterer.html) from sklearn.\n",
    "* Remember that the projection direction should have norm 1. This means that during the training the computed eigenvectors should be properly normalized and stored once normalized."
   ]
  },
  {
   "cell_type": "markdown",
   "metadata": {},
   "source": [
    "## Implementation"
   ]
  },
  {
   "cell_type": "markdown",
   "metadata": {},
   "source": [
    "<div class=\"qst\">\n",
    "\n",
    "* Complete the `KPCA` class below, satisfying the described requirements.\n",
    "\n",
    "</div>"
   ]
  },
  {
   "cell_type": "code",
   "execution_count": 14,
   "metadata": {
    "tags": []
   },
   "outputs": [],
   "source": [
    "import numpy as np\n",
    "from numpy.linalg import eig\n",
    "from sklearn.metrics.pairwise import rbf_kernel, linear_kernel\n",
    "from sklearn.preprocessing import KernelCenterer\n",
    "\n",
    "\n",
    "class KPCA():\n",
    "    \"\"\"\n",
    "        Kernel PCA.\n",
    "    \"\"\"\n",
    "    def __init__(self, n_components: int, kernel: str, gamma: float = None):\n",
    "        \"\"\"\n",
    "            Initialization of the KPCA class.\n",
    "\n",
    "            Parameters:\n",
    "                - n_components: int, Number of principal components.\n",
    "                - kernel: str, Kernel type ('linear' or 'rbf').\n",
    "                - gamma: float or None, Kernel coefficient for 'rbf' kernel.\n",
    "        \"\"\" \n",
    "        self.n_components = n_components\n",
    "        self.kernel = str.lower(kernel)\n",
    "        self.gamma = gamma\n",
    "        self.X_fit_ = None      # Datos Ajustados\n",
    "        self.alphas_ = None     # Autovectores\n",
    "        self.lambdas_ = None    # Autovalores\n",
    "        self.centerer = KernelCenterer()\n",
    "\n",
    "    \"\"\"def _linear_kernel(self, X: np.ndarray, Y: np.ndarray = None):\n",
    "        return np.dot(X, Y if Y is not None else X.T)\n",
    "    \n",
    "    def _rbf_kernel(self, X: np.ndarray, Y: np.ndarray = None):\n",
    "        if not Y:\n",
    "            Y = X\n",
    "        if not self.gamma:\n",
    "            self.gamma = 1.0 / X.shape[1]\n",
    "\n",
    "        sq_dists = np.sum(X**2, axis=1).reshape(-1, 1) + np.sum(Y**2, axis=1) - 2 * np.dot(X, Y.T)\n",
    "        return np.exp(-self.gamma * sq_dists)\"\"\"\n",
    "    \n",
    "    def _compute_kernel(self, X: np.ndarray, Y: np.ndarray) -> np.ndarray:\n",
    "        if self.kernel == 'linear':\n",
    "            return linear_kernel(X, Y)\n",
    "        elif self.kernel == 'rbf':\n",
    "            return rbf_kernel(X, Y, gamma=self.gamma)\n",
    "        else:\n",
    "            raise ValueError(f\"The value of Kernel must be 'linear' or 'rbf', '{self.kernel}' is given\")\n",
    "\n",
    "    def fit(self, X: np.ndarray):\n",
    "        \"\"\"\n",
    "            Fit the KPCA model on the training data X.\n",
    "            \n",
    "            Parameters:\n",
    "            - X: numpy array of shape (n_samples, n_features), Training data.\n",
    "        \"\"\"\n",
    "        # Guardamos los datos de entrenamiento (guardamos para calculos de kernel)\n",
    "        self.X_fit_ = X\n",
    "\n",
    "        # Calculamos la matriz de kernel (similaridad entre puntos de X)\n",
    "        K = self._compute_kernel(X, X)\n",
    "\n",
    "         # Centramos la matriz de kernel para eliminar cualquier sesgo\n",
    "        K_centered = self.centerer.fit_transform(K)\n",
    "\n",
    "        # Calculamos los autovalores y autovectores de la matriz de kernel centrada\n",
    "        # Estos autovalores y autovectores nos dan la dirección y la magnitud de la varianza\n",
    "        eigenvalues, eigenvectors = eig(K_centered)\n",
    "\n",
    "        # Ordenamos los autovalores en orden descendente y reorganizamos los autovectores en función de esto\n",
    "        # Esto garantiza que las componentes principales seleccionadas correspondan a las mayores varianzas\n",
    "        idx = np.argsort(eigenvalues)[::-1]\n",
    "        eigenvalues = eigenvalues[idx]\n",
    "        eigenvectors = eigenvectors[:, idx]\n",
    "\n",
    "        # Seleccionamos los primeros 'n_components' autovalores y autovectores\n",
    "        self.alphas_ = eigenvectors[:, :self.n_components].real  # Autovectores\n",
    "        self.lambdas_ = eigenvalues[:self.n_components].real     # Autovalores\n",
    "\n",
    "        # Normalizamos los autovectores correspondientes a cada autovalor\n",
    "        self.alphas_ = self.alphas_ / np.sqrt(self.lambdas_)\n",
    "\n",
    "\n",
    "    def transform(self, X: np.ndarray):\n",
    "        \"\"\"\n",
    "            Project new data X into the principal component space.\n",
    "            \n",
    "            Parameters:\n",
    "            - X: numpy array of shape (n_samples, n_features), New data to project.\n",
    "            \n",
    "            Returns:\n",
    "            - Projected data of shape (n_samples, n_components).\n",
    "        \"\"\"\n",
    "        # Calculamos la matriz de kernel entre los datos nuevos y los ajustados en fit\n",
    "        # Esto mide la similitud entre los nuevos puntos y los puntos ajustados previamente\n",
    "        K = self._compute_kernel(X, self.X_fit_)\n",
    "        \n",
    "        # Centramos la matriz de kernel de los nuevos datos para garantizar consistencia\n",
    "        #  con los datos de entrenamiento\n",
    "        K_centered = self.centerer.transform(K)\n",
    "        \n",
    "        # Proyectamos los nuevos datos usando los autovectores ajustados\n",
    "        # Multiplicamos la matriz de kernel centrada por los autovectores normalizados\n",
    "        #  para obtener la proyección\n",
    "        return np.dot(K_centered, self.alphas_)\n",
    "\n",
    "    def fit_transform(self, X: np.ndarray):\n",
    "        \"\"\"\n",
    "            Fit the model to X and then project X into the principal component space.\n",
    "            \n",
    "            Parameters:\n",
    "            - X: numpy array of shape (n_samples, n_features), Training data to fit and project.\n",
    "            \n",
    "            Returns:\n",
    "            - Projected data of shape (n_samples, n_components).\n",
    "        \"\"\"\n",
    "        self.fit(X)\n",
    "        return self.transform(X)"
   ]
  },
  {
   "cell_type": "markdown",
   "metadata": {},
   "source": [
    "# Experiments with KPCA"
   ]
  },
  {
   "cell_type": "markdown",
   "metadata": {},
   "source": [
    "## Comparative with *scikit-learn*"
   ]
  },
  {
   "cell_type": "markdown",
   "metadata": {},
   "source": [
    "The following cell generates the *blobs* dataset and depicts it."
   ]
  },
  {
   "cell_type": "code",
   "execution_count": 4,
   "metadata": {
    "tags": []
   },
   "outputs": [
    {
     "data": {
      "image/png": "[encoded data removed]",
      "text/plain": [
       "<Figure size 1500x500 with 1 Axes>"
      ]
     },
     "metadata": {},
     "output_type": "display_data"
    }
   ],
   "source": [
    "from sklearn.datasets import make_blobs\n",
    "X, y = make_blobs(random_state=seed)\n",
    "X_train = X[:90,:]; y_train=y[:90]\n",
    "X_new = X[90:,:]; y_new=y[90:]\n",
    "\n",
    "plt.scatter(X_train[:,0], X_train[:,1],c=y_train, label='train')\n",
    "plt.scatter(X_new[:,0], X_new[:,1], c=y_new, marker='s', label='new')\n",
    "plt.legend()\n",
    "plt.show()"
   ]
  },
  {
   "cell_type": "markdown",
   "metadata": {},
   "source": [
    "<div class=\"qst\">\n",
    "\n",
    "* Train and transform a classical PCA model over the training data (`X_train`), using both the implemented `KPCA` class using a linear kernel and the `PCA` class of `sklearn`.\n",
    "* Transform using the previous two models the new data (`X_new`).\n",
    "* Compare that both classes provide the same outputs (in terms of the eigenvectors and the data projections), describing the obtained results.\n",
    "</div>"
   ]
  },
  {
   "cell_type": "code",
   "execution_count": 17,
   "metadata": {
    "tags": []
   },
   "outputs": [
    {
     "name": "stdout",
     "output_type": "stream",
     "text": [
      "Eigenvectors (KPCA with linear kernel):\n",
      "[[-0.00170185]\n",
      " [-0.00144365]\n",
      " [ 0.00315548]\n",
      " [-0.00089386]\n",
      " [-0.00149731]\n",
      " [ 0.00330584]\n",
      " [-0.00195384]\n",
      " [-0.00101385]\n",
      " [-0.00112589]\n",
      " [-0.00150643]\n",
      " [ 0.00316604]\n",
      " [-0.00124488]\n",
      " [ 0.00412394]\n",
      " [-0.00245382]\n",
      " [ 0.00272538]\n",
      " [ 0.00323974]\n",
      " [-0.00222184]\n",
      " [-0.00108122]\n",
      " [-0.00136759]\n",
      " [ 0.0025524 ]\n",
      " [-0.00135725]\n",
      " [-0.00138989]\n",
      " [-0.0009797 ]\n",
      " [ 0.00240797]\n",
      " [ 0.00310645]\n",
      " [ 0.00323024]\n",
      " [ 0.0028349 ]\n",
      " [-0.00126455]\n",
      " [ 0.00339847]\n",
      " [-0.00121293]\n",
      " [-0.00204988]\n",
      " [-0.00226901]\n",
      " [-0.00157906]\n",
      " [-0.00179196]\n",
      " [-0.00203722]\n",
      " [ 0.00329657]\n",
      " [ 0.00310401]\n",
      " [-0.00159641]\n",
      " [-0.00124917]\n",
      " [-0.00213565]\n",
      " [ 0.00264391]\n",
      " [ 0.00227101]\n",
      " [ 0.00270032]\n",
      " [-0.00115289]\n",
      " [-0.00123387]\n",
      " [-0.00141198]\n",
      " [-0.00198297]\n",
      " [ 0.00249343]\n",
      " [-0.00164926]\n",
      " [ 0.00303186]\n",
      " [ 0.00321436]\n",
      " [ 0.00287044]\n",
      " [ 0.00347081]\n",
      " [-0.00196091]\n",
      " [ 0.00241332]\n",
      " [ 0.00317956]\n",
      " [-0.00103468]\n",
      " [ 0.00284394]\n",
      " [-0.00141369]\n",
      " [-0.00121385]\n",
      " [-0.00196446]\n",
      " [-0.00167622]\n",
      " [-0.0007027 ]\n",
      " [ 0.00195203]\n",
      " [-0.00143732]\n",
      " [-0.00213749]\n",
      " [-0.00251145]\n",
      " [ 0.003449  ]\n",
      " [-0.00175177]\n",
      " [-0.00172119]\n",
      " [-0.00191706]\n",
      " [-0.002272  ]\n",
      " [-0.00120852]\n",
      " [ 0.00361628]\n",
      " [-0.00116522]\n",
      " [ 0.00280072]\n",
      " [-0.00165886]\n",
      " [-0.00125841]\n",
      " [-0.00109369]\n",
      " [ 0.00239113]\n",
      " [-0.0015631 ]\n",
      " [-0.00163005]\n",
      " [-0.00127016]\n",
      " [-0.00175679]\n",
      " [-0.00232471]\n",
      " [-0.00167055]\n",
      " [-0.00154591]\n",
      " [ 0.00358708]\n",
      " [-0.00092313]\n",
      " [-0.00194306]]\n",
      "Eigenvectors (PCA from sklearn):\n",
      "[[ 0.92260084 -0.38575601]]\n",
      "Projections from the new data (KPCA with linear kernel):\n",
      "[[-2.91306683]\n",
      " [-2.56379231]\n",
      " [-4.80706454]\n",
      " [-4.59719367]\n",
      " [-3.08472867]\n",
      " [-2.33060981]\n",
      " [ 7.91074148]\n",
      " [ 5.61290113]\n",
      " [-4.47037834]\n",
      " [-3.13577591]]\n",
      "Projections from the new data (PCA from sklearn):\n",
      "[[ 2.91306683]\n",
      " [ 2.56379231]\n",
      " [ 4.80706454]\n",
      " [ 4.59719367]\n",
      " [ 3.08472867]\n",
      " [ 2.33060981]\n",
      " [-7.91074148]\n",
      " [-5.61290113]\n",
      " [ 4.47037834]\n",
      " [ 3.13577591]]\n"
     ]
    }
   ],
   "source": [
    "from sklearn.decomposition import PCA\n",
    "\n",
    "kernel = \"linear\"\n",
    "n_components=1\n",
    "\n",
    "model_my = KPCA(n_components=n_components, kernel=kernel)\n",
    "model_sk = PCA(n_components=n_components)\n",
    "\n",
    "# Training of the models (complete).\n",
    "model_my.fit(X_train)\n",
    "model_sk.fit(X_train)\n",
    "\n",
    "X_transformed_my = model_my.transform(X_new)\n",
    "X_transformed_sk = model_sk.transform(X_new)\n",
    "\n",
    "# Comparative of the eigenvectors (complete).\n",
    "print(\"Eigenvectors (KPCA with linear kernel):\")\n",
    "print(model_my.alphas_)\n",
    "\n",
    "print(\"Eigenvectors (PCA from sklearn):\")\n",
    "print(model_sk.components_)\n",
    "\n",
    "# Comparative of the projections (complete).\n",
    "print(\"Projections from the new data (KPCA with linear kernel):\")\n",
    "print(X_transformed_my)\n",
    "\n",
    "print(\"Projections from the new data (PCA from sklearn):\")\n",
    "print(X_transformed_sk)"
   ]
  },
  {
   "cell_type": "markdown",
   "metadata": {},
   "source": [
    "<div class=\"qst\">\n",
    "\n",
    "* Train and transform a Kernel PCA model using a RBF kernel over the training data (`X_train`), calling both the implemented `KPCA` class and the `KernelPCA` class of `sklearn`.\n",
    "* Transform using the previous two models the new data (`X_new`).\n",
    "* Compare that both classes provide the same outputs (in terms of the eigenvectors and the data projections), describing the obtained results.\n",
    "</div>"
   ]
  },
  {
   "cell_type": "code",
   "execution_count": 13,
   "metadata": {
    "tags": []
   },
   "outputs": [
    {
     "name": "stdout",
     "output_type": "stream",
     "text": [
      "Eigenvectors (KPCA with rbf kernel):\n",
      "[[-0.0184179 ]\n",
      " [ 0.00910838]\n",
      " [-0.02358837]\n",
      " [ 0.02551654]\n",
      " [-0.00175825]\n",
      " [-0.0264137 ]\n",
      " [-0.00204582]\n",
      " [-0.01401477]\n",
      " [ 0.01250552]\n",
      " [-0.01798586]\n",
      " [-0.03037332]\n",
      " [ 0.0478971 ]\n",
      " [-0.01174927]\n",
      " [-0.01280582]\n",
      " [-0.02981593]\n",
      " [-0.01061907]\n",
      " [-0.0156769 ]\n",
      " [-0.00757329]\n",
      " [ 0.05226135]\n",
      " [-0.01983528]\n",
      " [-0.00793499]\n",
      " [ 0.04714369]\n",
      " [ 0.03168654]\n",
      " [-0.02331573]\n",
      " [-0.03492479]\n",
      " [-0.03445958]\n",
      " [-0.03176046]\n",
      " [-0.01538157]\n",
      " [-0.02580751]\n",
      " [-0.01631257]\n",
      " [ 0.00832775]\n",
      " [-0.01561668]\n",
      " [-0.01396165]\n",
      " [ 0.02747859]\n",
      " [ 0.01491123]\n",
      " [-0.02368444]\n",
      " [-0.0357229 ]\n",
      " [ 0.05138531]\n",
      " [ 0.01163239]\n",
      " [ 0.01947637]\n",
      " [-0.0251263 ]\n",
      " [-0.01821324]\n",
      " [-0.02293298]\n",
      " [ 0.04315734]\n",
      " [ 0.04637638]\n",
      " [ 0.05251393]\n",
      " [-0.00986   ]\n",
      " [-0.02002611]\n",
      " [ 0.04996146]\n",
      " [-0.03148758]\n",
      " [-0.02509221]\n",
      " [-0.03535701]\n",
      " [-0.0280933 ]\n",
      " [ 0.03040942]\n",
      " [-0.02467343]\n",
      " [-0.02802358]\n",
      " [-0.00274473]\n",
      " [-0.03012773]\n",
      " [ 0.05297554]\n",
      " [ 0.04614166]\n",
      " [-0.01710318]\n",
      " [ 0.04103067]\n",
      " [-0.01117518]\n",
      " [-0.01234853]\n",
      " [ 0.05329623]\n",
      " [ 0.0197844 ]\n",
      " [-0.00383574]\n",
      " [-0.02917192]\n",
      " [-0.01263566]\n",
      " [ 0.04695109]\n",
      " [ 0.03031327]\n",
      " [-0.0150876 ]\n",
      " [-0.01388604]\n",
      " [-0.01629145]\n",
      " [-0.0072791 ]\n",
      " [-0.03416428]\n",
      " [ 0.03220536]\n",
      " [ 0.00971617]\n",
      " [-0.01444888]\n",
      " [-0.0237746 ]\n",
      " [ 0.05030582]\n",
      " [ 0.05069131]\n",
      " [ 0.03534837]\n",
      " [ 0.04159797]\n",
      " [-0.01340495]\n",
      " [-0.01620785]\n",
      " [-0.01219067]\n",
      " [-0.02362654]\n",
      " [ 0.02559244]\n",
      " [-0.01775279]]\n",
      "Eigenvectors (PCA from sklearn):\n",
      "[[-0.06836262]\n",
      " [ 0.03380803]\n",
      " [-0.08755414]\n",
      " [ 0.09471101]\n",
      " [-0.0065262 ]\n",
      " [-0.09804105]\n",
      " [-0.00759357]\n",
      " [-0.05201932]\n",
      " [ 0.04641738]\n",
      " [-0.06675903]\n",
      " [-0.11273815]\n",
      " [ 0.17778204]\n",
      " [-0.04361036]\n",
      " [-0.04753199]\n",
      " [-0.11066928]\n",
      " [-0.03941534]\n",
      " [-0.05818873]\n",
      " [-0.02811017]\n",
      " [ 0.19398104]\n",
      " [-0.07362361]\n",
      " [-0.02945271]\n",
      " [ 0.1749856 ]\n",
      " [ 0.1176125 ]\n",
      " [-0.08654216]\n",
      " [-0.12963207]\n",
      " [-0.12790533]\n",
      " [-0.11788689]\n",
      " [-0.05709254]\n",
      " [-0.09579103]\n",
      " [-0.06054818]\n",
      " [ 0.03091052]\n",
      " [-0.0579652 ]\n",
      " [-0.05182214]\n",
      " [ 0.10199366]\n",
      " [ 0.05534675]\n",
      " [-0.08791072]\n",
      " [-0.13259448]\n",
      " [ 0.19072941]\n",
      " [ 0.04317653]\n",
      " [ 0.07229141]\n",
      " [-0.09326254]\n",
      " [-0.06760298]\n",
      " [-0.08512147]\n",
      " [ 0.16018923]\n",
      " [ 0.17213752]\n",
      " [ 0.19491857]\n",
      " [-0.03659787]\n",
      " [-0.0743319 ]\n",
      " [ 0.18544445]\n",
      " [-0.11687402]\n",
      " [-0.09313601]\n",
      " [-0.13123637]\n",
      " [-0.10427528]\n",
      " [ 0.11287215]\n",
      " [-0.09158161]\n",
      " [-0.1040165 ]\n",
      " [-0.01018775]\n",
      " [-0.11182659]\n",
      " [ 0.19663195]\n",
      " [ 0.17126631]\n",
      " [-0.06348271]\n",
      " [ 0.15229558]\n",
      " [-0.04147948]\n",
      " [-0.04583466]\n",
      " [ 0.19782225]\n",
      " [ 0.07343473]\n",
      " [-0.01423732]\n",
      " [-0.10827886]\n",
      " [-0.04690041]\n",
      " [ 0.17427071]\n",
      " [ 0.11251528]\n",
      " [-0.05600139]\n",
      " [-0.05154152]\n",
      " [-0.0604698 ]\n",
      " [-0.02701818]\n",
      " [-0.12680926]\n",
      " [ 0.11953825]\n",
      " [ 0.036064  ]\n",
      " [-0.05363064]\n",
      " [-0.08824536]\n",
      " [ 0.18672263]\n",
      " [ 0.18815346]\n",
      " [ 0.13120431]\n",
      " [ 0.15440125]\n",
      " [-0.0497558 ]\n",
      " [-0.06015949]\n",
      " [-0.04524872]\n",
      " [-0.0876958 ]\n",
      " [ 0.09499274]\n",
      " [-0.06589393]]\n",
      "Projections from the new data (KPCA with rbf kernel):\n",
      "[[ 0.38556415]\n",
      " [ 0.54331742]\n",
      " [ 0.03487673]\n",
      " [-0.16536335]\n",
      " [-0.2276133 ]\n",
      " [ 0.47658729]\n",
      " [-0.31491385]\n",
      " [-0.36335373]\n",
      " [-0.22042084]\n",
      " [ 0.72367272]]\n",
      "Projections from the new data (PCA from sklearn):\n",
      "[[ 0.38556415]\n",
      " [ 0.54331742]\n",
      " [ 0.03487673]\n",
      " [-0.16536335]\n",
      " [-0.2276133 ]\n",
      " [ 0.47658729]\n",
      " [-0.31491385]\n",
      " [-0.36335373]\n",
      " [-0.22042084]\n",
      " [ 0.72367272]]\n"
     ]
    }
   ],
   "source": [
    "from sklearn.decomposition import KernelPCA\n",
    "\n",
    "kernel = 'rbf'\n",
    "n_components=1\n",
    "\n",
    "# Model definition (complete).\n",
    "model_my = KPCA(n_components=n_components, kernel=kernel)\n",
    "model_sk = KernelPCA(n_components=n_components, kernel=kernel)\n",
    "\n",
    "# Training of the models (complete).\n",
    "model_my.fit(X_train)\n",
    "model_sk.fit(X_train)\n",
    "\n",
    "X_transformed_my = model_my.transform(X_new)\n",
    "X_transformed_sk = model_sk.transform(X_new)\n",
    "\n",
    "# Comparative of the eigenvectors (complete).\n",
    "print(\"Eigenvectors (KPCA with rbf kernel):\")\n",
    "print(model_my.alphas_)\n",
    "\n",
    "print(\"Eigenvectors (PCA from sklearn):\")\n",
    "print(model_sk.eigenvectors_)\n",
    "\n",
    "# Comparative of the projections (complete).\n",
    "print(\"Projections from the new data (KPCA with rbf kernel):\")\n",
    "print(X_transformed_my)\n",
    "\n",
    "print(\"Projections from the new data (PCA from sklearn):\")\n",
    "print(X_transformed_sk)"
   ]
  },
  {
   "cell_type": "markdown",
   "metadata": {},
   "source": [
    "## Comparing linear kernel against Gaussian kernel"
   ]
  },
  {
   "cell_type": "code",
   "execution_count": 18,
   "metadata": {
    "tags": []
   },
   "outputs": [
    {
     "data": {
      "text/plain": [
       "<matplotlib.collections.PathCollection at 0x7f0c5e4cf590>"
      ]
     },
     "execution_count": 18,
     "metadata": {},
     "output_type": "execute_result"
    },
    {
     "data": {
      "image/png": "[encoded data removed]",
      "text/plain": [
       "<Figure size 1500x500 with 1 Axes>"
      ]
     },
     "metadata": {},
     "output_type": "display_data"
    }
   ],
   "source": [
    "from sklearn.datasets import make_moons\n",
    "\n",
    "X, y = make_moons(noise=1e-1, random_state=seed)\n",
    "\n",
    "plt.scatter(X[:,0], X[:,1],c=y)"
   ]
  },
  {
   "cell_type": "markdown",
   "metadata": {},
   "source": [
    "<div class=\"qst\">\n",
    "\n",
    "* Using the implemented class `KPCA` compare the result of transforming the above dataset using a linear kernel and an RBF one (looking for an appropriated hyperparameter `gamma` value).\n",
    "* Is there some model able to properly project the classes separately?\n",
    "</div>"
   ]
  },
  {
   "cell_type": "code",
   "execution_count": null,
   "metadata": {
    "tags": []
   },
   "outputs": [],
   "source": [
    "n_components=1\n",
    "\n",
    "model_linear = KPCA(n_components=n_components, kernel='linear')\n",
    "model_rbf = KPCA(n_components=n_components, kernel='rbf')"
   ]
  }
 ],
 "metadata": {
  "@webio": {
   "lastCommId": null,
   "lastKernelId": null
  },
  "kernelspec": {
   "display_name": ".venv",
   "language": "python",
   "name": "python3"
  },
  "language_info": {
   "codemirror_mode": {
    "name": "ipython",
    "version": 3
   },
   "file_extension": ".py",
   "mimetype": "text/x-python",
   "name": "python",
   "nbconvert_exporter": "python",
   "pygments_lexer": "ipython3",
   "version": "3.12.3"
  },
  "toc": {
   "base_numbering": 1,
   "nav_menu": {},
   "number_sections": false,
   "sideBar": true,
   "skip_h1_title": false,
   "title_cell": "Table of Contents",
   "title_sidebar": "Contents",
   "toc_cell": false,
   "toc_position": {
    "height": "calc(100% - 180px)",
    "left": "10px",
    "top": "150px",
    "width": "352px"
   },
   "toc_section_display": true,
   "toc_window_display": false
  }
 },
 "nbformat": 4,
 "nbformat_minor": 4
}
